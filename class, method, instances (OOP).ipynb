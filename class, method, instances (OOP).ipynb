{
 "cells": [
  {
   "cell_type": "markdown",
   "metadata": {},
   "source": [
    "# Class\n"
   ]
  },
  {
   "cell_type": "code",
   "execution_count": 2,
   "metadata": {},
   "outputs": [
    {
     "name": "stdout",
     "output_type": "stream",
     "text": [
      "Ali Ahmed\n"
     ]
    }
   ],
   "source": [
    "#linear programming\n",
    "s1name=\"Ali\"\n",
    "s1fname=\"raza\"\n",
    "s1ID=1\n",
    "def s1login():pass\n",
    "def s1logout():pass\n",
    "\n",
    "s2name=\"Ahmed\"\n",
    "s2fname=\"Hamza\"\n",
    "s2ID=1\n",
    "def s2login():pass\n",
    "def s2logout():pass\n",
    "\n",
    "print(s1name,s2name)"
   ]
  },
  {
   "cell_type": "code",
   "execution_count": 14,
   "metadata": {},
   "outputs": [
    {
     "name": "stdout",
     "output_type": "stream",
     "text": [
      "1  0\n"
     ]
    }
   ],
   "source": [
    "#OOP\n",
    "\n",
    "class practice(): #class\n",
    "    #class variables\n",
    "    \n",
    "    def __init__(this,ID): #constructor (self is ignored and one argument is necessary)\n",
    "        this.ID=ID #individually mange object properties\\\n",
    "        \n",
    "        #attributes\n",
    "        #attributes aree made inside constructor\n",
    "        \n",
    "        this.name=''\n",
    "        this.fname=''\n",
    "        this.course=''\n",
    "        this.fee=0\n",
    "    def login(this): #method\n",
    "        pass #to make empty without error\n",
    "    def logout(this):\n",
    "        pass\n",
    "    def attendence(this):\n",
    "        pass\n",
    "    \n",
    "        \n",
    "\n",
    "s1=practice(1) #instance/ object \n",
    "s2=practice(2) \n",
    "s3=practice(100)\n",
    "\n",
    "print(s1.ID,s2.name,s3.fee)"
   ]
  },
  {
   "cell_type": "code",
   "execution_count": 12,
   "metadata": {},
   "outputs": [
    {
     "name": "stdout",
     "output_type": "stream",
     "text": [
      "1\n",
      "Ali\n",
      "0\n"
     ]
    }
   ],
   "source": [
    "s2.name=\"Ali\"\n",
    "\n",
    "print(s1.ID,s2.name,s3.fee, sep=\"\\n\")"
   ]
  },
  {
   "cell_type": "code",
   "execution_count": 23,
   "metadata": {},
   "outputs": [
    {
     "name": "stdout",
     "output_type": "stream",
     "text": [
      "1\n",
      "\n",
      "0\n",
      "welcome Rafia\n"
     ]
    }
   ],
   "source": [
    "#OOP\n",
    "\n",
    "class practice(): #class\n",
    "    #class variables\n",
    "    counter=0\n",
    "    def __init__(this,ID): #constructor (self is ignored and one argument is necessary)\n",
    "        this.ID=ID #individually mange object properties\\\n",
    "        \n",
    "        #attributes\n",
    "        #attributes are made inside constructor\n",
    "        \n",
    "        this.name=''\n",
    "        this.fname=''\n",
    "        this.course=''\n",
    "        this.user=''\n",
    "        this.fee=0\n",
    "        practice.counter+=1 #(to update class variable writing class name is must)\n",
    "    def login(this,user, password): #method\n",
    "        #pass #to make empty without error\n",
    "        this.user=user\n",
    "        print(\"welcome\",this.user)\n",
    "        \n",
    "        \n",
    "    \n",
    "    def logout(this):\n",
    "        pass\n",
    "    def attendence(this):\n",
    "        pass\n",
    "    \n",
    "        \n",
    "\n",
    "s1=practice(1) #instance/ object \n",
    "s2=practice(2) \n",
    "s3=practice(100)\n",
    "\n",
    "print(s1.ID,s2.name,s3.fee,sep='\\n')\n",
    "\n",
    "s2.counter\n",
    "s1.login(\"Rafia\",'123')"
   ]
  },
  {
   "cell_type": "code",
   "execution_count": 28,
   "metadata": {},
   "outputs": [
    {
     "name": "stdout",
     "output_type": "stream",
     "text": [
      "1998\n"
     ]
    }
   ],
   "source": [
    "#to add attribute\n",
    "#add to constructor or th eobject manually\n",
    "s1.DOB=\"1998\"\n",
    "print(s1.DOB)"
   ]
  },
  {
   "cell_type": "code",
   "execution_count": 31,
   "metadata": {},
   "outputs": [],
   "source": [
    "del s1.DOB\n"
   ]
  },
  {
   "cell_type": "code",
   "execution_count": 32,
   "metadata": {},
   "outputs": [
    {
     "ename": "AttributeError",
     "evalue": "'practice' object has no attribute 'DOB'",
     "output_type": "error",
     "traceback": [
      "\u001b[1;31m---------------------------------------------------------------------------\u001b[0m",
      "\u001b[1;31mAttributeError\u001b[0m                            Traceback (most recent call last)",
      "\u001b[1;32m<ipython-input-32-2d84b9d340cb>\u001b[0m in \u001b[0;36m<module>\u001b[1;34m\u001b[0m\n\u001b[1;32m----> 1\u001b[1;33m \u001b[0mprint\u001b[0m\u001b[1;33m(\u001b[0m\u001b[0ms1\u001b[0m\u001b[1;33m.\u001b[0m\u001b[0mDOB\u001b[0m\u001b[1;33m)\u001b[0m\u001b[1;33m\u001b[0m\u001b[1;33m\u001b[0m\u001b[0m\n\u001b[0m",
      "\u001b[1;31mAttributeError\u001b[0m: 'practice' object has no attribute 'DOB'"
     ]
    }
   ],
   "source": [
    "print(s1.DOB)"
   ]
  },
  {
   "cell_type": "code",
   "execution_count": 33,
   "metadata": {},
   "outputs": [
    {
     "ename": "AttributeError",
     "evalue": "'practice' object has no attribute 'DOB'",
     "output_type": "error",
     "traceback": [
      "\u001b[1;31m---------------------------------------------------------------------------\u001b[0m",
      "\u001b[1;31mAttributeError\u001b[0m                            Traceback (most recent call last)",
      "\u001b[1;32m<ipython-input-33-b7e3be01d6ee>\u001b[0m in \u001b[0;36m<module>\u001b[1;34m\u001b[0m\n\u001b[1;32m----> 1\u001b[1;33m \u001b[0ms1\u001b[0m\u001b[1;33m.\u001b[0m\u001b[0m__getattribute__\u001b[0m\u001b[1;33m(\u001b[0m\u001b[1;34m\"DOB\"\u001b[0m\u001b[1;33m)\u001b[0m\u001b[1;33m\u001b[0m\u001b[1;33m\u001b[0m\u001b[0m\n\u001b[0m",
      "\u001b[1;31mAttributeError\u001b[0m: 'practice' object has no attribute 'DOB'"
     ]
    }
   ],
   "source": [
    "s1.__getattribute__(\"DOB\")"
   ]
  },
  {
   "cell_type": "markdown",
   "metadata": {},
   "source": [
    "# INHERITANCE"
   ]
  },
  {
   "cell_type": "code",
   "execution_count": 39,
   "metadata": {},
   "outputs": [],
   "source": [
    "class parent():\n",
    "    def __init__(self):\n",
    "        self.name=\"\"\n",
    "        self.fname=\"\"\n",
    "    def speak(self,word=\"\"):\n",
    "        print(word,\"...\")\n",
    "    def eat(self,food=\"\"):\n",
    "        print(food)\n",
    "        \n",
    "class child(parent):\n",
    "    pass\n",
    "    \n",
    "\n",
    "    "
   ]
  },
  {
   "cell_type": "code",
   "execution_count": 40,
   "metadata": {},
   "outputs": [
    {
     "name": "stdout",
     "output_type": "stream",
     "text": [
      "ABC\n"
     ]
    }
   ],
   "source": [
    "p_obj1=parent()\n",
    "p_obj1.name=\"ABC\"\n",
    "print(p_obj1.name)"
   ]
  },
  {
   "cell_type": "code",
   "execution_count": 41,
   "metadata": {},
   "outputs": [
    {
     "name": "stdout",
     "output_type": "stream",
     "text": [
      "pakistani ...\n"
     ]
    }
   ],
   "source": [
    "c_obj1=child()\n",
    "c_obj1.speak(\"pakistani\")\n"
   ]
  },
  {
   "cell_type": "code",
   "execution_count": 64,
   "metadata": {},
   "outputs": [
    {
     "name": "stdout",
     "output_type": "stream",
     "text": [
      " black\n"
     ]
    },
    {
     "ename": "TypeError",
     "evalue": "'str' object is not callable",
     "output_type": "error",
     "traceback": [
      "\u001b[1;31m---------------------------------------------------------------------------\u001b[0m",
      "\u001b[1;31mTypeError\u001b[0m                                 Traceback (most recent call last)",
      "\u001b[1;32m<ipython-input-64-87741fd510a6>\u001b[0m in \u001b[0;36m<module>\u001b[1;34m\u001b[0m\n\u001b[0;32m     22\u001b[0m \u001b[0mc_obj1\u001b[0m\u001b[1;33m=\u001b[0m\u001b[0mchild\u001b[0m\u001b[1;33m(\u001b[0m\u001b[1;33m)\u001b[0m\u001b[1;33m\u001b[0m\u001b[1;33m\u001b[0m\u001b[0m\n\u001b[0;32m     23\u001b[0m \u001b[0mc_obj1\u001b[0m\u001b[1;33m.\u001b[0m\u001b[0mcolour\u001b[0m\u001b[1;33m(\u001b[0m\u001b[1;33m)\u001b[0m\u001b[1;33m\u001b[0m\u001b[1;33m\u001b[0m\u001b[0m\n\u001b[1;32m---> 24\u001b[1;33m \u001b[0mprint\u001b[0m\u001b[1;33m(\u001b[0m\u001b[0mc_obj1\u001b[0m\u001b[1;33m.\u001b[0m\u001b[0meyes\u001b[0m\u001b[1;33m(\u001b[0m\u001b[1;33m)\u001b[0m\u001b[1;33m)\u001b[0m\u001b[1;33m\u001b[0m\u001b[1;33m\u001b[0m\u001b[0m\n\u001b[0m\u001b[0;32m     25\u001b[0m \u001b[0mc_obj1\u001b[0m\u001b[1;33m.\u001b[0m\u001b[0mcolor\u001b[0m\u001b[1;33m(\u001b[0m\u001b[1;33m)\u001b[0m\u001b[1;33m\u001b[0m\u001b[1;33m\u001b[0m\u001b[0m\n\u001b[0;32m     26\u001b[0m \u001b[0mc_obj1\u001b[0m\u001b[1;33m.\u001b[0m\u001b[0mspeak\u001b[0m\u001b[1;33m(\u001b[0m\u001b[1;33m)\u001b[0m\u001b[1;33m\u001b[0m\u001b[1;33m\u001b[0m\u001b[0m\n",
      "\u001b[1;31mTypeError\u001b[0m: 'str' object is not callable"
     ]
    }
   ],
   "source": [
    "class mother():\n",
    "    def __init__(self):\n",
    "        self.hair=\"\"\n",
    "        self.eyes=\"\"\n",
    "    def colour(self,color=\"\"):\n",
    "        print(color,\"black\")\n",
    "        \n",
    "    def eyes(self,size=\"\"):\n",
    "        size=size\n",
    "        print(size,\"big\")\n",
    "        \n",
    "class father():\n",
    "    def __init__(self):\n",
    "        self.hair=\"\"\n",
    "        self.eyes=\"\"\n",
    "    def color(self,color=\"\"):\n",
    "        print(color,\"...\")\n",
    "    def speak(self,c=\"english\"):\n",
    "        print(c)  \n",
    "class child(father,mother):\n",
    "    pass\n",
    "c_obj1=child()\n",
    "c_obj1.colour()\n",
    "c_obj1.eyes()\n",
    "c_obj1.color()\n",
    "c_obj1.speak()"
   ]
  },
  {
   "cell_type": "markdown",
   "metadata": {},
   "source": [
    "# Polymorphism\n"
   ]
  },
  {
   "cell_type": "code",
   "execution_count": 3,
   "metadata": {},
   "outputs": [
    {
     "data": {
      "text/plain": [
       "10"
      ]
     },
     "execution_count": 3,
     "metadata": {},
     "output_type": "execute_result"
    }
   ],
   "source": [
    "#overloading\n",
    "class A():\n",
    "    def abc(self,*n):\n",
    "        a=0\n",
    "        for i in  n:\n",
    "            a=a+int(i)\n",
    "        return a\n",
    "obj1 = A()\n",
    "obj1.abc(1)\n",
    "obj1.abc(1,2,3,4)"
   ]
  },
  {
   "cell_type": "code",
   "execution_count": 4,
   "metadata": {},
   "outputs": [
    {
     "name": "stdout",
     "output_type": "stream",
     "text": [
      "speak function class B\n"
     ]
    }
   ],
   "source": [
    "#over riding\n",
    "\n",
    "class A():\n",
    "    def speak(self):\n",
    "        print(\"speak function class A\")\n",
    "class B(A):\n",
    "     def speak(self):\n",
    "        print(\"speak function class B\")\n",
    "obj1=B()\n",
    "obj1.speak()"
   ]
  },
  {
   "cell_type": "code",
   "execution_count": null,
   "metadata": {},
   "outputs": [],
   "source": []
  },
  {
   "cell_type": "code",
   "execution_count": null,
   "metadata": {},
   "outputs": [],
   "source": []
  }
 ],
 "metadata": {
  "kernelspec": {
   "display_name": "Python 3",
   "language": "python",
   "name": "python3"
  },
  "language_info": {
   "codemirror_mode": {
    "name": "ipython",
    "version": 3
   },
   "file_extension": ".py",
   "mimetype": "text/x-python",
   "name": "python",
   "nbconvert_exporter": "python",
   "pygments_lexer": "ipython3",
   "version": "3.7.4"
  }
 },
 "nbformat": 4,
 "nbformat_minor": 2
}
