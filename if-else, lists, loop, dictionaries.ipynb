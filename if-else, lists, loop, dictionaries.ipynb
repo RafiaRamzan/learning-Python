{
 "cells": [
  {
   "cell_type": "markdown",
   "metadata": {},
   "source": [
    "# if - else"
   ]
  },
  {
   "cell_type": "code",
   "execution_count": 22,
   "metadata": {},
   "outputs": [
    {
     "name": "stdout",
     "output_type": "stream",
     "text": [
      "enter marks66\n",
      "grade D\n"
     ]
    }
   ],
   "source": [
    "marks=int(input(\"enter marks\"))\n",
    "if(marks == 100 and marks>=90):\n",
    "    print(\"grade A\")\n",
    "elif(marks>=80 and marks<90):\n",
    "    print(\"grade B\")\n",
    "elif(marks>=70 and marks<80):\n",
    "    print(\"grade C\")\n",
    "elif(marks>=60 and marks<70):\n",
    "\n",
    "    print(\"grade D\")\n",
    "else:\n",
    "    print(\"grade E\")"
   ]
  },
  {
   "cell_type": "code",
   "execution_count": 23,
   "metadata": {},
   "outputs": [
    {
     "name": "stdout",
     "output_type": "stream",
     "text": [
      "enter daytuesday\n",
      "enter time7\n",
      "enter condition scratched or notnot\n"
     ]
    }
   ],
   "source": [
    "day=input(\"enter day\")\n",
    "time=int(input(\"enter time\"))\n",
    "condition=input(\"enter condition scratched or not\")\n",
    "cost=1.59\n",
    "if(day == \"monday\" or day==\"tuesday\" or day==\"wednesday\" or day==\"friday\"or day==\"saturday\"):\n",
    "    if(time>=8):\n",
    "        print(\"$1.59 extra charged\")\n",
    "        cost= cost+cost\n",
    "        \n",
    "        if(condition==\"scratched\"):\n",
    "            print(\"15 extra charged dur to scratches\")\n",
    "            cost=cost+cost+15\n",
    "            print(\"cost= \",cost)\n",
    "        else:\n",
    "            print(\"no extra charges\")\n",
    "            cost=cost+cost\n",
    "            print(\"cost= \",cost)\n",
    "\n",
    "            \n",
    "elif(day==\"thursday\"):\n",
    "    print(\"50% off\")\n",
    "    if(time>=8):\n",
    "        cost=(cost+cost)*0.5\n",
    "        print(\"cost= \",cost)\n",
    "\n",
    "elif(day==\"sunday\"):\n",
    "    print(\"30% off\")\n",
    "    if(time>=8):\n",
    "        if(condition==\"scratched\"):\n",
    "            print(\"25 extra charged dur to scratches\")\n",
    "            cost=(cost+cost+25)*0.3\n",
    "            print(\"cost= \",cost)\n",
    "        else:\n",
    "            cost=(cost+cost)*0.3\n",
    "            print(\"cost= \",cost)\n"
   ]
  },
  {
   "cell_type": "markdown",
   "metadata": {},
   "source": [
    "# Lists"
   ]
  },
  {
   "cell_type": "code",
   "execution_count": 24,
   "metadata": {},
   "outputs": [
    {
     "data": {
      "text/plain": [
       "[]"
      ]
     },
     "execution_count": 24,
     "metadata": {},
     "output_type": "execute_result"
    }
   ],
   "source": [
    "r=['rafia','rida','amir']\n",
    "r[0:2]\n",
    "r[-1:]\n",
    "r[-1:0:-1]\n",
    "#left to right step size positive\n",
    "#right to left step size negative\n",
    "#else it will display empty array\n",
    "r[-1:0:1]"
   ]
  },
  {
   "cell_type": "markdown",
   "metadata": {},
   "source": [
    "# Loops"
   ]
  },
  {
   "cell_type": "code",
   "execution_count": 25,
   "metadata": {},
   "outputs": [
    {
     "name": "stdout",
     "output_type": "stream",
     "text": [
      "finding 6\n",
      "......\n",
      "......\n",
      "found \n",
      "index of 6 is:  2\n"
     ]
    }
   ],
   "source": [
    "li=[0,1,6,3,4,5,2,7,8,9]\n",
    "count=0\n",
    "print(\"finding 6\")\n",
    "while(li[count]!=6):\n",
    "    print(\"......\")\n",
    "    count+=1\n",
    "print(\"found \\nindex of 6 is: \",li.index(6))"
   ]
  },
  {
   "cell_type": "markdown",
   "metadata": {},
   "source": [
    "#  Dictionary"
   ]
  },
  {
   "cell_type": "code",
   "execution_count": 26,
   "metadata": {},
   "outputs": [
    {
     "data": {
      "text/plain": [
       "{'name': 'bob', 'age': 25, 'job': 'Dev'}"
      ]
     },
     "execution_count": 26,
     "metadata": {},
     "output_type": "execute_result"
    }
   ],
   "source": [
    "personData={\n",
    "    'name':'bob',\n",
    "    'age':25,\n",
    "    'job':'Dev'\n",
    "}\n",
    "\n",
    "personData"
   ]
  },
  {
   "cell_type": "code",
   "execution_count": 27,
   "metadata": {},
   "outputs": [
    {
     "data": {
      "text/plain": [
       "{'name': 'bob',\n",
       " 'age': 25,\n",
       " 'job': 'Dev',\n",
       " 'hobbies': ['travalling', 'book reading']}"
      ]
     },
     "execution_count": 27,
     "metadata": {},
     "output_type": "execute_result"
    }
   ],
   "source": [
    "personData['hobbies']=['travalling','book reading']\n",
    "personData"
   ]
  },
  {
   "cell_type": "code",
   "execution_count": 28,
   "metadata": {},
   "outputs": [
    {
     "data": {
      "text/plain": [
       "{'name': 'bob',\n",
       " 'age': 25,\n",
       " 'job': 'Dev',\n",
       " 'hobbies': {'travalling': 'book reading'}}"
      ]
     },
     "execution_count": 28,
     "metadata": {},
     "output_type": "execute_result"
    }
   ],
   "source": [
    "personData['hobbies']={'travalling':'book reading'}\n",
    "personData"
   ]
  },
  {
   "cell_type": "code",
   "execution_count": 35,
   "metadata": {},
   "outputs": [
    {
     "data": {
      "text/plain": [
       "{'name': 'bob',\n",
       " 'age': 25,\n",
       " 'job': 'Dev',\n",
       " 'hobbies': ['travalling', 'book reading'],\n",
       " 'experience': {'location': 'pakistan', 'year': 2019}}"
      ]
     },
     "execution_count": 35,
     "metadata": {},
     "output_type": "execute_result"
    }
   ],
   "source": [
    "personData={\n",
    "    'name':'bob',\n",
    "    'age':25,\n",
    "    'job':'Dev'\n",
    "}\n",
    "\n",
    "personData['hobbies']=['travalling','book reading']\n",
    "personData\n",
    "\n",
    "workexperience={\n",
    "    'location':'pakistan',\n",
    "    'year':2019\n",
    "}\n",
    "personData['experience']=workexperience\n",
    "\n",
    "personData"
   ]
  },
  {
   "cell_type": "code",
   "execution_count": 31,
   "metadata": {},
   "outputs": [
    {
     "name": "stdout",
     "output_type": "stream",
     "text": [
      "{'location': 'pakistan', 'year': 2019}\n"
     ]
    }
   ],
   "source": [
    "print(personData.get(\"experience\"))"
   ]
  },
  {
   "cell_type": "code",
   "execution_count": 32,
   "metadata": {},
   "outputs": [
    {
     "data": {
      "text/plain": [
       "2019"
      ]
     },
     "execution_count": 32,
     "metadata": {},
     "output_type": "execute_result"
    }
   ],
   "source": [
    "personData['experience']['year']"
   ]
  },
  {
   "cell_type": "code",
   "execution_count": 36,
   "metadata": {},
   "outputs": [
    {
     "data": {
      "text/plain": [
       "[{'name': 'bob',\n",
       "  'age': 25,\n",
       "  'job': 'Dev',\n",
       "  'hobbies': ['travalling', 'book reading'],\n",
       "  'experience': {'location': 'pakistan', 'year': 2019}},\n",
       " {'location': 'pakistan', 'year': 2019}]"
      ]
     },
     "execution_count": 36,
     "metadata": {},
     "output_type": "execute_result"
    }
   ],
   "source": [
    "[personData,workexperience]"
   ]
  },
  {
   "cell_type": "code",
   "execution_count": 41,
   "metadata": {},
   "outputs": [
    {
     "name": "stdout",
     "output_type": "stream",
     "text": [
      "enter namerafia\n",
      "enter age20\n",
      "educationbsbi\n",
      "enter year2020\n"
     ]
    },
    {
     "data": {
      "text/plain": [
       "[{'name': 'rafia', 'age': 20}, 'bsbi']"
      ]
     },
     "execution_count": 41,
     "metadata": {},
     "output_type": "execute_result"
    }
   ],
   "source": [
    "name=input(\"enter name\")\n",
    "age=int(input('enter age'))\n",
    "personal={\n",
    "    'name':name,'age':age\n",
    "}\n",
    "education=input(\"education\")\n",
    "year=int(input(\"enter year\"))\n",
    "academics={'education':education,'year':year}\n",
    "[personal,education]"
   ]
  },
  {
   "cell_type": "code",
   "execution_count": null,
   "metadata": {},
   "outputs": [],
   "source": []
  }
 ],
 "metadata": {
  "kernelspec": {
   "display_name": "Python 3",
   "language": "python",
   "name": "python3"
  },
  "language_info": {
   "codemirror_mode": {
    "name": "ipython",
    "version": 3
   },
   "file_extension": ".py",
   "mimetype": "text/x-python",
   "name": "python",
   "nbconvert_exporter": "python",
   "pygments_lexer": "ipython3",
   "version": "3.7.4"
  }
 },
 "nbformat": 4,
 "nbformat_minor": 2
}
