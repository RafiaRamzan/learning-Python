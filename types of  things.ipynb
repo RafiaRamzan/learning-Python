{
 "cells": [
  {
   "cell_type": "code",
   "execution_count": 1,
   "metadata": {},
   "outputs": [
    {
     "name": "stdout",
     "output_type": "stream",
     "text": [
      "The Zen of Python, by Tim Peters\n",
      "\n",
      "Beautiful is better than ugly.\n",
      "Explicit is better than implicit.\n",
      "Simple is better than complex.\n",
      "Complex is better than complicated.\n",
      "Flat is better than nested.\n",
      "Sparse is better than dense.\n",
      "Readability counts.\n",
      "Special cases aren't special enough to break the rules.\n",
      "Although practicality beats purity.\n",
      "Errors should never pass silently.\n",
      "Unless explicitly silenced.\n",
      "In the face of ambiguity, refuse the temptation to guess.\n",
      "There should be one-- and preferably only one --obvious way to do it.\n",
      "Although that way may not be obvious at first unless you're Dutch.\n",
      "Now is better than never.\n",
      "Although never is often better than *right* now.\n",
      "If the implementation is hard to explain, it's a bad idea.\n",
      "If the implementation is easy to explain, it may be a good idea.\n",
      "Namespaces are one honking great idea -- let's do more of those!\n"
     ]
    }
   ],
   "source": [
    "import this\n"
   ]
  },
  {
   "cell_type": "code",
   "execution_count": 3,
   "metadata": {},
   "outputs": [
    {
     "name": "stdout",
     "output_type": "stream",
     "text": [
      "<class 'int'>\n",
      "<class 'float'>\n",
      "<class 'str'>\n",
      "<class 'str'>\n",
      "<class 'str'>\n",
      "<class 'list'>\n",
      "<class 'bool'>\n"
     ]
    }
   ],
   "source": [
    "a=3\n",
    "print(type(a))\n",
    "b=7.7\n",
    "print(type(b))\n",
    "c=\"rafia\"\n",
    "print(type(c))\n",
    "d='78'\n",
    "print(type(d))\n",
    "\n",
    "e=\"\"\"pakistan 007\"\"\"\n",
    "print(type(e))\n",
    "name=['ali','hamza',20, True,False]\n",
    "print(type(name))\n",
    "\n",
    "#LEFT TO RIGHT POSITIVE INDEXING AND RIGHT TO LEFT IS NEGATIVE INDEXING\n",
    "f=True\n",
    "print(type(f))\n",
    "\n",
    "#data type in array is homogenous and its size is fixed\n",
    "\n",
    "\n"
   ]
  },
  {
   "cell_type": "code",
   "execution_count": 9,
   "metadata": {},
   "outputs": [
    {
     "name": "stdout",
     "output_type": "stream",
     "text": [
      "('ali', 'hamza', 20, True, False)\n",
      "False\n"
     ]
    }
   ],
   "source": [
    "name=('ali','hamza',20, True,False)\n",
    "type(name)\n",
    "print(name)\n",
    "print(name[4])\n"
   ]
  },
  {
   "cell_type": "code",
   "execution_count": 18,
   "metadata": {},
   "outputs": [
    {
     "name": "stdout",
     "output_type": "stream",
     "text": [
      "{'hamza', 'inam', 'ali'}\n",
      "<class 'list'>\n",
      "hamza\n"
     ]
    }
   ],
   "source": [
    "name= {'hamza','inam','ali','ali'}\n",
    "type(name)\n",
    "print(name)\n",
    "name=list(name) #type casting\n",
    "print(type(name))\n",
    "print(name[0])"
   ]
  },
  {
   "cell_type": "code",
   "execution_count": null,
   "metadata": {},
   "outputs": [],
   "source": []
  }
 ],
 "metadata": {
  "kernelspec": {
   "display_name": "Python 3",
   "language": "python",
   "name": "python3"
  },
  "language_info": {
   "codemirror_mode": {
    "name": "ipython",
    "version": 3
   },
   "file_extension": ".py",
   "mimetype": "text/x-python",
   "name": "python",
   "nbconvert_exporter": "python",
   "pygments_lexer": "ipython3",
   "version": "3.7.4"
  }
 },
 "nbformat": 4,
 "nbformat_minor": 2
}
