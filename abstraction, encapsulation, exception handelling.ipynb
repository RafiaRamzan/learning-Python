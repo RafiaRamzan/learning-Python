{
 "cells": [
  {
   "cell_type": "markdown",
   "metadata": {},
   "source": [
    "# Encapsulation:\n",
    "#### Data hiding\n",
    "#### private methods and to access it we will use getter((to access value) setter(to update values) methods\n",
    "\n",
    "# Abstraction\n",
    "##### We can not make object of this class directly and to access it we do inheritance\n",
    "\n",
    "# Exception Handelling\n",
    "#####  To control errors created by humans or resources.\n",
    "##### To prevent the program to get crash\n",
    "##### Abnormal behaviour  handeller\n",
    "##### After solving we do testing\n",
    "\n",
    "# File Handelling \n",
    "##### pandas library ----- usage: to access data mostly of excel sheet\n",
    "##### Schedule model-------used to automate process\n",
    "##### numpy library\n",
    "\n",
    "# Difference between module and package\n",
    "\n",
    "## Module:\n",
    "##### All the files itself are called modules\n",
    "## Package:\n",
    "##### Contain multiple python file----folder\n",
    "### They can be imported as :\n",
    "##### import specific module\n",
    "##### import folder\n",
    "##### import imp function in module\n",
    "\n",
    "### library of deep learning is: Tensor Flow\n"
   ]
  },
  {
   "cell_type": "markdown",
   "metadata": {},
   "source": [
    " \n",
    " \n",
    " \n",
    " # Encapsulation:\n",
    " "
   ]
  },
  {
   "cell_type": "code",
   "execution_count": 17,
   "metadata": {},
   "outputs": [],
   "source": [
    "class A():\n",
    "    def __init__(self,name,age):\n",
    "        self.__sname__ = name\n",
    "        self.__age__ = age\n",
    "    def display(self):\n",
    "        print(\"name:\",self.__sname)\n",
    "        print(\"Age:\",self.__age)\n",
    "    def change(self,a,b):\n",
    "        self.__sname__ = a\n",
    "        self.__age__ = b\n",
    "    def __info():\n",
    "        print(\"hello\")\n",
    "    def abc(self):    #public function\n",
    "        self.__info()\n",
    "\n",
    "obj1=A(\"Ali\",25)"
   ]
  },
  {
   "cell_type": "code",
   "execution_count": 18,
   "metadata": {},
   "outputs": [
    {
     "ename": "AttributeError",
     "evalue": "'A' object has no attribute 'sname'",
     "output_type": "error",
     "traceback": [
      "\u001b[1;31m---------------------------------------------------------------------------\u001b[0m",
      "\u001b[1;31mAttributeError\u001b[0m                            Traceback (most recent call last)",
      "\u001b[1;32m<ipython-input-18-63bb28389f86>\u001b[0m in \u001b[0;36m<module>\u001b[1;34m\u001b[0m\n\u001b[1;32m----> 1\u001b[1;33m \u001b[0mobj1\u001b[0m\u001b[1;33m.\u001b[0m\u001b[0msname\u001b[0m\u001b[1;33m\u001b[0m\u001b[1;33m\u001b[0m\u001b[0m\n\u001b[0m",
      "\u001b[1;31mAttributeError\u001b[0m: 'A' object has no attribute 'sname'"
     ]
    }
   ],
   "source": [
    "obj1.sname\n"
   ]
  },
  {
   "cell_type": "code",
   "execution_count": 19,
   "metadata": {},
   "outputs": [
    {
     "ename": "AttributeError",
     "evalue": "'A' object has no attribute 'age'",
     "output_type": "error",
     "traceback": [
      "\u001b[1;31m---------------------------------------------------------------------------\u001b[0m",
      "\u001b[1;31mAttributeError\u001b[0m                            Traceback (most recent call last)",
      "\u001b[1;32m<ipython-input-19-86ad981f1d4c>\u001b[0m in \u001b[0;36m<module>\u001b[1;34m\u001b[0m\n\u001b[1;32m----> 1\u001b[1;33m \u001b[0mobj1\u001b[0m\u001b[1;33m.\u001b[0m\u001b[0mage\u001b[0m\u001b[1;33m\u001b[0m\u001b[1;33m\u001b[0m\u001b[0m\n\u001b[0m",
      "\u001b[1;31mAttributeError\u001b[0m: 'A' object has no attribute 'age'"
     ]
    }
   ],
   "source": [
    "obj1.age"
   ]
  },
  {
   "cell_type": "code",
   "execution_count": 20,
   "metadata": {},
   "outputs": [
    {
     "data": {
      "text/plain": [
       "'Ali'"
      ]
     },
     "execution_count": 20,
     "metadata": {},
     "output_type": "execute_result"
    }
   ],
   "source": [
    "obj1.__sname__"
   ]
  },
  {
   "cell_type": "code",
   "execution_count": 22,
   "metadata": {},
   "outputs": [
    {
     "name": "stdout",
     "output_type": "stream",
     "text": [
      "name: Ali\n",
      "Age: 25\n"
     ]
    }
   ],
   "source": [
    "obj1.display()"
   ]
  },
  {
   "cell_type": "code",
   "execution_count": 25,
   "metadata": {},
   "outputs": [
    {
     "ename": "AttributeError",
     "evalue": "'A' object has no attribute 'abc'",
     "output_type": "error",
     "traceback": [
      "\u001b[1;31m---------------------------------------------------------------------------\u001b[0m",
      "\u001b[1;31mAttributeError\u001b[0m                            Traceback (most recent call last)",
      "\u001b[1;32m<ipython-input-25-69be6ee77927>\u001b[0m in \u001b[0;36m<module>\u001b[1;34m\u001b[0m\n\u001b[1;32m----> 1\u001b[1;33m \u001b[0mobj1\u001b[0m\u001b[1;33m.\u001b[0m\u001b[0mabc\u001b[0m\u001b[1;33m(\u001b[0m\u001b[1;33m)\u001b[0m\u001b[1;33m\u001b[0m\u001b[1;33m\u001b[0m\u001b[0m\n\u001b[0m",
      "\u001b[1;31mAttributeError\u001b[0m: 'A' object has no attribute 'abc'"
     ]
    }
   ],
   "source": [
    "obj1.abc()"
   ]
  },
  {
   "cell_type": "code",
   "execution_count": 2,
   "metadata": {},
   "outputs": [
    {
     "name": "stdout",
     "output_type": "stream",
     "text": [
      "Name: Rafia\n",
      "Age: 20\n",
      "Batch: Isb 3\n"
     ]
    }
   ],
   "source": [
    "class Data():\n",
    "    def __init__(self,name,age,batch):\n",
    "        self.__name = name\n",
    "        self.__age = age\n",
    "        self.__batch = batch\n",
    "    def display(self):\n",
    "        print(\"Name:\",self.__name)\n",
    "        print(\"Age:\",self.__age)\n",
    "        print(\"Batch:\",self.__batch)\n",
    "\n",
    "\n",
    "obj1=Data(\"Rafia\",20,\"Isb 3\")\n",
    "obj1.display()"
   ]
  },
  {
   "cell_type": "markdown",
   "metadata": {},
   "source": [
    "#  Abstraction:\n"
   ]
  },
  {
   "cell_type": "code",
   "execution_count": 27,
   "metadata": {},
   "outputs": [],
   "source": [
    "class A:  #abstract class------no barcket in front of class\n",
    "    def __init__(self,a,b):\n",
    "        self.a=a\n",
    "        self.b=b\n",
    "class B(A):\n",
    "    pass\n"
   ]
  },
  {
   "cell_type": "code",
   "execution_count": 29,
   "metadata": {},
   "outputs": [],
   "source": [
    "obj1=A(2,5)\n",
    "obj2=B(7,9)"
   ]
  },
  {
   "cell_type": "code",
   "execution_count": 30,
   "metadata": {},
   "outputs": [
    {
     "name": "stdout",
     "output_type": "stream",
     "text": [
      "2\n",
      "5\n"
     ]
    }
   ],
   "source": [
    "print(obj1.a)\n",
    "print(obj1.b) #abstract class not made"
   ]
  },
  {
   "cell_type": "code",
   "execution_count": 21,
   "metadata": {},
   "outputs": [],
   "source": [
    "#in python to make abstract class we import things\n",
    "\n",
    "from abc import ABC, abstractmethod    #abc is default made file   \n",
    "\n",
    "\n",
    "class A(ABC):\n",
    "    @abstractmethod     #in this way constructor is converted into abstract method\n",
    "    def __init__(self):\n",
    "        self.a=None\n",
    "        self.b=None\n",
    "        \n",
    "    def display(self,name,age):\n",
    "        self.a=name\n",
    "        self.b=age\n",
    "        return name \n",
    "        return age\n",
    "class b(A):\n",
    "    def __init__(self):\n",
    "        self.a=\"rafia\"\n",
    "        self.b=20\n",
    "        \n",
    "    def laughter(self):\n",
    "        return \"hahaha\"\n",
    "    \n",
    "\n",
    "\n",
    "obj1=b()"
   ]
  },
  {
   "cell_type": "code",
   "execution_count": 20,
   "metadata": {},
   "outputs": [
    {
     "name": "stdout",
     "output_type": "stream",
     "text": [
      "Rafia\n"
     ]
    },
    {
     "data": {
      "text/plain": [
       "'hahaha'"
      ]
     },
     "execution_count": 20,
     "metadata": {},
     "output_type": "execute_result"
    }
   ],
   "source": [
    "print(obj1.display(\"Rafia\",20))\n",
    "obj1.laughter()"
   ]
  },
  {
   "cell_type": "markdown",
   "metadata": {},
   "source": [
    "#  Exception Handelling"
   ]
  },
  {
   "cell_type": "code",
   "execution_count": 25,
   "metadata": {},
   "outputs": [
    {
     "name": "stdout",
     "output_type": "stream",
     "text": [
      "pakistan\n",
      "pakistan\n",
      "pakistan\n"
     ]
    },
    {
     "ename": "ZeroDivisionError",
     "evalue": "division by zero",
     "output_type": "error",
     "traceback": [
      "\u001b[1;31m---------------------------------------------------------------------------\u001b[0m",
      "\u001b[1;31mZeroDivisionError\u001b[0m                         Traceback (most recent call last)",
      "\u001b[1;32m<ipython-input-25-008a741eefc7>\u001b[0m in \u001b[0;36m<module>\u001b[1;34m\u001b[0m\n\u001b[0;32m      3\u001b[0m \u001b[0mprint\u001b[0m\u001b[1;33m(\u001b[0m\u001b[1;34m\"pakistan\"\u001b[0m\u001b[1;33m)\u001b[0m\u001b[1;33m\u001b[0m\u001b[1;33m\u001b[0m\u001b[0m\n\u001b[0;32m      4\u001b[0m \u001b[1;33m\u001b[0m\u001b[0m\n\u001b[1;32m----> 5\u001b[1;33m \u001b[0mprint\u001b[0m\u001b[1;33m(\u001b[0m\u001b[1;36m7\u001b[0m\u001b[1;33m/\u001b[0m\u001b[1;36m0\u001b[0m\u001b[1;33m)\u001b[0m\u001b[1;33m\u001b[0m\u001b[1;33m\u001b[0m\u001b[0m\n\u001b[0m\u001b[0;32m      6\u001b[0m \u001b[0mprint\u001b[0m\u001b[1;33m(\u001b[0m\u001b[1;34m\"pakistan\"\u001b[0m\u001b[1;33m)\u001b[0m\u001b[1;33m\u001b[0m\u001b[1;33m\u001b[0m\u001b[0m\n\u001b[0;32m      7\u001b[0m \u001b[0mprint\u001b[0m\u001b[1;33m(\u001b[0m\u001b[1;34m\"pakistan\"\u001b[0m\u001b[1;33m)\u001b[0m\u001b[1;33m\u001b[0m\u001b[1;33m\u001b[0m\u001b[0m\n",
      "\u001b[1;31mZeroDivisionError\u001b[0m: division by zero"
     ]
    }
   ],
   "source": [
    "print(\"pakistan\")\n",
    "print(\"pakistan\")\n",
    "print(\"pakistan\")\n",
    "\n",
    "print(7/0)\n",
    "\n",
    "print(\"pakistan\")\n",
    "print(\"pakistan\")"
   ]
  },
  {
   "cell_type": "code",
   "execution_count": null,
   "metadata": {},
   "outputs": [],
   "source": [
    "#zerodivision error\n",
    "7/0\n",
    "#out of bound error\n",
    "#index error\n",
    "a=[1,2]\n",
    "a[7]\n",
    "#key error\n",
    "#name error\n",
    "print(a)\n",
    "#file not fornd error\n",
    "a=open(abc.txt)\n",
    "#cant move from big to small value\n",
    "int(7.2)"
   ]
  },
  {
   "cell_type": "code",
   "execution_count": 30,
   "metadata": {},
   "outputs": [
    {
     "name": "stdout",
     "output_type": "stream",
     "text": [
      "start..............\n",
      "cant divide by zero\n",
      "WELCOME!!!\n",
      "end...............\n"
     ]
    }
   ],
   "source": [
    "'''try:\n",
    "    your code\n",
    "except (error1class or type , error2 class....):\n",
    "    message to be printed\n",
    "else:\n",
    "    mesage show if above error is not found\n",
    "finally:\n",
    "    always run this block\n",
    "    \n",
    "'''\n",
    "print(\"start..............\")\n",
    "\n",
    "try:\n",
    "    print(7/0)\n",
    "except ZeroDivisionError:\n",
    "    print(\"cant divide by zero\")\n",
    "else:\n",
    "    print(\"invalid format\")\n",
    "finally:\n",
    "    print(\"WELCOME!!!\")\n",
    "print(\"end...............\")"
   ]
  },
  {
   "cell_type": "code",
   "execution_count": 34,
   "metadata": {},
   "outputs": [
    {
     "name": "stdout",
     "output_type": "stream",
     "text": [
      "a[0]= 2\n",
      "a[4]---index not found\n"
     ]
    }
   ],
   "source": [
    "\n",
    "try:\n",
    "    a=[2,3]\n",
    "    print(\"a[0]=\",a[0])\n",
    "    print(\"a[4]=\",a[4])\n",
    "except IndexError:\n",
    "    print(\"a[4]---index not found\")"
   ]
  },
  {
   "cell_type": "code",
   "execution_count": 35,
   "metadata": {},
   "outputs": [
    {
     "name": "stdout",
     "output_type": "stream",
     "text": [
      "start..............\n",
      "ERROR!!!!\n",
      "end...............\n"
     ]
    }
   ],
   "source": [
    "\n",
    "print(\"start..............\")\n",
    "\n",
    "try:\n",
    "    print(7/0)\n",
    "    a=[2,3]\n",
    "\n",
    "    print(\"a[4]=\",a[4])\n",
    "except (ZeroDivisionError ,IndexError):\n",
    "    print(\"ERROR!!!!\")\n",
    "\n",
    "print(\"end...............\")"
   ]
  },
  {
   "cell_type": "code",
   "execution_count": 38,
   "metadata": {},
   "outputs": [
    {
     "name": "stdout",
     "output_type": "stream",
     "text": [
      "start..............\n",
      "cant divide to 0\n",
      "ERROR!!!!\n",
      "end...............\n"
     ]
    }
   ],
   "source": [
    "\n",
    "print(\"start..............\")\n",
    "\n",
    "try:\n",
    "    print(7/0)\n",
    "except (ZeroDivisionError):\n",
    "    print(\"cant divide to 0\")\n",
    "try:\n",
    "    a=[2,3]\n",
    "    print(a[4])\n",
    "except (IndexError):\n",
    "    print(\"ERROR!!!!\")\n",
    "\n",
    "print(\"end...............\")"
   ]
  },
  {
   "cell_type": "code",
   "execution_count": 41,
   "metadata": {},
   "outputs": [
    {
     "name": "stdout",
     "output_type": "stream",
     "text": [
      "some kind of error detected\n",
      "\n",
      "Error detected:  division by zero\n"
     ]
    }
   ],
   "source": [
    "try:\n",
    "    print(7/0)\n",
    "    a=[2,3]\n",
    "    print(\"a[4]=\",a[4])\n",
    "except:\n",
    "    print(\"some kind of error detected\\n\")\n",
    "    \n",
    "    \n",
    "#it donot read multiple lines... to read multiple lines\n",
    "\n",
    "\n",
    "try:\n",
    "    print(7/0)\n",
    "    a=[2,3]\n",
    "    print(\"a[4]=\",a[4])\n",
    "except Exception as e:\n",
    "    print(\"Error detected: \",e)"
   ]
  },
  {
   "cell_type": "code",
   "execution_count": 43,
   "metadata": {},
   "outputs": [
    {
     "name": "stdout",
     "output_type": "stream",
     "text": [
      "0.5\n",
      "your code is running without any error\n"
     ]
    }
   ],
   "source": [
    "#using else block\n",
    "\n",
    "\n",
    "try:\n",
    "    print(7/14)\n",
    "\n",
    "\n",
    "except Exception as e:\n",
    "    print(\"Error detected: \",e)\n",
    "    \n",
    "else:\n",
    "    print(\"your code is running without any error\")\n"
   ]
  },
  {
   "cell_type": "code",
   "execution_count": 44,
   "metadata": {},
   "outputs": [
    {
     "data": {
      "text/plain": [
       "'win32'"
      ]
     },
     "execution_count": 44,
     "metadata": {},
     "output_type": "execute_result"
    }
   ],
   "source": [
    "import sys\n",
    "sys.platform"
   ]
  },
  {
   "cell_type": "markdown",
   "metadata": {},
   "source": [
    "# Raise"
   ]
  },
  {
   "cell_type": "code",
   "execution_count": 58,
   "metadata": {},
   "outputs": [
    {
     "ename": "Exception",
     "evalue": "age range 18 to 80",
     "output_type": "error",
     "traceback": [
      "\u001b[1;31m---------------------------------------------------------------------------\u001b[0m",
      "\u001b[1;31mException\u001b[0m                                 Traceback (most recent call last)",
      "\u001b[1;32m<ipython-input-58-36235ca2f7ae>\u001b[0m in \u001b[0;36m<module>\u001b[1;34m\u001b[0m\n\u001b[0;32m      7\u001b[0m \u001b[1;33m\u001b[0m\u001b[0m\n\u001b[0;32m      8\u001b[0m \u001b[1;33m\u001b[0m\u001b[0m\n\u001b[1;32m----> 9\u001b[1;33m \u001b[0mp1\u001b[0m\u001b[1;33m=\u001b[0m\u001b[0mstudent\u001b[0m\u001b[1;33m(\u001b[0m\u001b[1;36m100\u001b[0m\u001b[1;33m)\u001b[0m\u001b[1;33m\u001b[0m\u001b[1;33m\u001b[0m\u001b[0m\n\u001b[0m\u001b[0;32m     10\u001b[0m \u001b[0mp1\u001b[0m\u001b[1;33m.\u001b[0m\u001b[0mage\u001b[0m\u001b[1;33m\u001b[0m\u001b[1;33m\u001b[0m\u001b[0m\n",
      "\u001b[1;32m<ipython-input-58-36235ca2f7ae>\u001b[0m in \u001b[0;36m__init__\u001b[1;34m(self, age)\u001b[0m\n\u001b[0;32m      3\u001b[0m \u001b[1;33m\u001b[0m\u001b[0m\n\u001b[0;32m      4\u001b[0m         \u001b[1;32mif\u001b[0m  \u001b[1;33m(\u001b[0m\u001b[0mage\u001b[0m\u001b[1;33m>\u001b[0m\u001b[1;36m17\u001b[0m \u001b[1;32mor\u001b[0m \u001b[0mage\u001b[0m\u001b[1;33m<\u001b[0m\u001b[1;36m80\u001b[0m\u001b[1;33m)\u001b[0m\u001b[1;33m:\u001b[0m\u001b[1;33m\u001b[0m\u001b[1;33m\u001b[0m\u001b[0m\n\u001b[1;32m----> 5\u001b[1;33m             \u001b[1;32mraise\u001b[0m \u001b[0mException\u001b[0m\u001b[1;33m(\u001b[0m\u001b[1;34m\"age range 18 to 80\"\u001b[0m\u001b[1;33m)\u001b[0m  \u001b[1;31m#can generate any error\u001b[0m\u001b[1;33m\u001b[0m\u001b[1;33m\u001b[0m\u001b[0m\n\u001b[0m\u001b[0;32m      6\u001b[0m         \u001b[0mself\u001b[0m\u001b[1;33m.\u001b[0m\u001b[0mage\u001b[0m\u001b[1;33m=\u001b[0m\u001b[0mage\u001b[0m\u001b[1;33m\u001b[0m\u001b[1;33m\u001b[0m\u001b[0m\n\u001b[0;32m      7\u001b[0m \u001b[1;33m\u001b[0m\u001b[0m\n",
      "\u001b[1;31mException\u001b[0m: age range 18 to 80"
     ]
    }
   ],
   "source": [
    "class student():\n",
    "    def __init__(self,age):\n",
    "        \n",
    "        if  (age>17 or age<80):\n",
    "            raise Exception(\"age range 18 to 80\")  #can generate any error\n",
    "        self.age=age\n",
    "            \n",
    "        \n",
    "p1=student(100)\n",
    "p1.age"
   ]
  }
 ],
 "metadata": {
  "kernelspec": {
   "display_name": "Python 3",
   "language": "python",
   "name": "python3"
  },
  "language_info": {
   "codemirror_mode": {
    "name": "ipython",
    "version": 3
   },
   "file_extension": ".py",
   "mimetype": "text/x-python",
   "name": "python",
   "nbconvert_exporter": "python",
   "pygments_lexer": "ipython3",
   "version": "3.7.4"
  }
 },
 "nbformat": 4,
 "nbformat_minor": 2
}
